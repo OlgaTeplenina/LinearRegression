{
  "nbformat": 4,
  "nbformat_minor": 0,
  "metadata": {
    "colab": {
      "name": "Тепленина_ ДЗ ML.ipynb\"",
      "provenance": [],
      "collapsed_sections": []
    },
    "kernelspec": {
      "name": "python3",
      "display_name": "Python 3"
    },
    "language_info": {
      "name": "python"
    }
  },
  "cells": [
    {
      "cell_type": "markdown",
      "metadata": {
        "id": "JsYHMFD1VJ3V"
      },
      "source": [
        "# Предсказываем стоимость мед страховки\n",
        "\n"
      ]
    },
    {
      "cell_type": "code",
      "metadata": {
        "id": "sUUYP-SqP8-L",
        "colab": {
          "base_uri": "https://localhost:8080/"
        },
        "outputId": "a760f3ef-0008-4f80-f4ac-c11acc6526c2"
      },
      "source": [
        "from google.colab import drive\n",
        "drive.mount('/content/drive')"
      ],
      "execution_count": null,
      "outputs": [
        {
          "output_type": "stream",
          "name": "stdout",
          "text": [
            "Mounted at /content/drive\n"
          ]
        }
      ]
    },
    {
      "cell_type": "markdown",
      "metadata": {
        "id": "VppuD-6-VRPJ"
      },
      "source": [
        "## Загужаем необходимые библиотеки"
      ]
    },
    {
      "cell_type": "code",
      "metadata": {
        "id": "fBSwLD3cTLJH"
      },
      "source": [
        "import pandas as pd\n",
        "from sklearn.linear_model import LinearRegression\n",
        "from sklearn.model_selection import train_test_split\n",
        "from sklearn.metrics import mean_squared_error"
      ],
      "execution_count": null,
      "outputs": []
    },
    {
      "cell_type": "markdown",
      "metadata": {
        "id": "r9boKzHrVafV"
      },
      "source": [
        "## Загружаем данные\n",
        "\n",
        "Собраны данные:\n",
        "- age: возраст\n",
        "- sex: пол\n",
        "- bmi: индекс массы тела\n",
        "- children: количество детей, охваченных медицинским страхованием / количество иждивенцев\n",
        "- smoker: курение\n",
        "- region: регион (northeast, southeast, southwest, northwest).\n",
        "- charges: индивидуальные медицинские расходы (его и хотим предсказать)"
      ]
    },
    {
      "cell_type": "code",
      "metadata": {
        "id": "lbh9pStcVZRX"
      },
      "source": [
        "# Загрузите данные из файла insurance.csv в переменную df\n",
        "df = pd.read_csv('insurance.csv')"
      ],
      "execution_count": null,
      "outputs": []
    },
    {
      "cell_type": "code",
      "metadata": {
        "colab": {
          "base_uri": "https://localhost:8080/",
          "height": 221
        },
        "id": "iGcc4DvPVf9o",
        "outputId": "0852dd77-4dd0-45af-ddb1-e7602fa2bab9"
      },
      "source": [
        "df.head()"
      ],
      "execution_count": null,
      "outputs": [
        {
          "output_type": "execute_result",
          "data": {
            "text/html": [
              "<div>\n",
              "<style scoped>\n",
              "    .dataframe tbody tr th:only-of-type {\n",
              "        vertical-align: middle;\n",
              "    }\n",
              "\n",
              "    .dataframe tbody tr th {\n",
              "        vertical-align: top;\n",
              "    }\n",
              "\n",
              "    .dataframe thead th {\n",
              "        text-align: right;\n",
              "    }\n",
              "</style>\n",
              "<table border=\"1\" class=\"dataframe\">\n",
              "  <thead>\n",
              "    <tr style=\"text-align: right;\">\n",
              "      <th></th>\n",
              "      <th>age</th>\n",
              "      <th>sex</th>\n",
              "      <th>bmi</th>\n",
              "      <th>children</th>\n",
              "      <th>smoker</th>\n",
              "      <th>region</th>\n",
              "      <th>charges</th>\n",
              "    </tr>\n",
              "  </thead>\n",
              "  <tbody>\n",
              "    <tr>\n",
              "      <th>0</th>\n",
              "      <td>19</td>\n",
              "      <td>female</td>\n",
              "      <td>27.900</td>\n",
              "      <td>0</td>\n",
              "      <td>yes</td>\n",
              "      <td>southwest</td>\n",
              "      <td>16884.92400</td>\n",
              "    </tr>\n",
              "    <tr>\n",
              "      <th>1</th>\n",
              "      <td>18</td>\n",
              "      <td>male</td>\n",
              "      <td>33.770</td>\n",
              "      <td>1</td>\n",
              "      <td>no</td>\n",
              "      <td>southeast</td>\n",
              "      <td>1725.55230</td>\n",
              "    </tr>\n",
              "    <tr>\n",
              "      <th>2</th>\n",
              "      <td>28</td>\n",
              "      <td>male</td>\n",
              "      <td>33.000</td>\n",
              "      <td>3</td>\n",
              "      <td>no</td>\n",
              "      <td>southeast</td>\n",
              "      <td>4449.46200</td>\n",
              "    </tr>\n",
              "    <tr>\n",
              "      <th>3</th>\n",
              "      <td>33</td>\n",
              "      <td>male</td>\n",
              "      <td>22.705</td>\n",
              "      <td>0</td>\n",
              "      <td>no</td>\n",
              "      <td>northwest</td>\n",
              "      <td>21984.47061</td>\n",
              "    </tr>\n",
              "    <tr>\n",
              "      <th>4</th>\n",
              "      <td>32</td>\n",
              "      <td>male</td>\n",
              "      <td>28.880</td>\n",
              "      <td>0</td>\n",
              "      <td>no</td>\n",
              "      <td>northwest</td>\n",
              "      <td>3866.85520</td>\n",
              "    </tr>\n",
              "  </tbody>\n",
              "</table>\n",
              "</div>"
            ],
            "text/plain": [
              "   age     sex     bmi  children smoker     region      charges\n",
              "0   19  female  27.900         0    yes  southwest  16884.92400\n",
              "1   18    male  33.770         1     no  southeast   1725.55230\n",
              "2   28    male  33.000         3     no  southeast   4449.46200\n",
              "3   33    male  22.705         0     no  northwest  21984.47061\n",
              "4   32    male  28.880         0     no  northwest   3866.85520"
            ]
          },
          "metadata": {
            "tags": []
          },
          "execution_count": 11
        }
      ]
    },
    {
      "cell_type": "markdown",
      "metadata": {
        "id": "-pzxLlvWWZ-S"
      },
      "source": [
        "## Смотрим статистику, что нет пропусков и отсуствующих значений"
      ]
    },
    {
      "cell_type": "code",
      "metadata": {
        "colab": {
          "base_uri": "https://localhost:8080/"
        },
        "id": "l8q8x0y8197G",
        "outputId": "c0b4aefb-5939-45e0-fcf2-40e609acd750"
      },
      "source": [
        "df.info()"
      ],
      "execution_count": null,
      "outputs": [
        {
          "output_type": "stream",
          "name": "stdout",
          "text": [
            "<class 'pandas.core.frame.DataFrame'>\n",
            "RangeIndex: 1338 entries, 0 to 1337\n",
            "Data columns (total 7 columns):\n",
            " #   Column    Non-Null Count  Dtype  \n",
            "---  ------    --------------  -----  \n",
            " 0   age       1338 non-null   int64  \n",
            " 1   sex       1338 non-null   object \n",
            " 2   bmi       1338 non-null   float64\n",
            " 3   children  1338 non-null   int64  \n",
            " 4   smoker    1338 non-null   object \n",
            " 5   region    1338 non-null   object \n",
            " 6   charges   1338 non-null   float64\n",
            "dtypes: float64(2), int64(2), object(3)\n",
            "memory usage: 73.3+ KB\n"
          ]
        }
      ]
    },
    {
      "cell_type": "code",
      "metadata": {
        "colab": {
          "base_uri": "https://localhost:8080/",
          "height": 297
        },
        "id": "qR07UV-sVgi7",
        "outputId": "a611f4e9-3017-46cd-a292-7c210d09285d"
      },
      "source": [
        "df.describe()"
      ],
      "execution_count": null,
      "outputs": [
        {
          "output_type": "execute_result",
          "data": {
            "text/html": [
              "<div>\n",
              "<style scoped>\n",
              "    .dataframe tbody tr th:only-of-type {\n",
              "        vertical-align: middle;\n",
              "    }\n",
              "\n",
              "    .dataframe tbody tr th {\n",
              "        vertical-align: top;\n",
              "    }\n",
              "\n",
              "    .dataframe thead th {\n",
              "        text-align: right;\n",
              "    }\n",
              "</style>\n",
              "<table border=\"1\" class=\"dataframe\">\n",
              "  <thead>\n",
              "    <tr style=\"text-align: right;\">\n",
              "      <th></th>\n",
              "      <th>age</th>\n",
              "      <th>bmi</th>\n",
              "      <th>children</th>\n",
              "      <th>charges</th>\n",
              "    </tr>\n",
              "  </thead>\n",
              "  <tbody>\n",
              "    <tr>\n",
              "      <th>count</th>\n",
              "      <td>1338.000000</td>\n",
              "      <td>1338.000000</td>\n",
              "      <td>1338.000000</td>\n",
              "      <td>1338.000000</td>\n",
              "    </tr>\n",
              "    <tr>\n",
              "      <th>mean</th>\n",
              "      <td>39.207025</td>\n",
              "      <td>30.663397</td>\n",
              "      <td>1.094918</td>\n",
              "      <td>13270.422265</td>\n",
              "    </tr>\n",
              "    <tr>\n",
              "      <th>std</th>\n",
              "      <td>14.049960</td>\n",
              "      <td>6.098187</td>\n",
              "      <td>1.205493</td>\n",
              "      <td>12110.011237</td>\n",
              "    </tr>\n",
              "    <tr>\n",
              "      <th>min</th>\n",
              "      <td>18.000000</td>\n",
              "      <td>15.960000</td>\n",
              "      <td>0.000000</td>\n",
              "      <td>1121.873900</td>\n",
              "    </tr>\n",
              "    <tr>\n",
              "      <th>25%</th>\n",
              "      <td>27.000000</td>\n",
              "      <td>26.296250</td>\n",
              "      <td>0.000000</td>\n",
              "      <td>4740.287150</td>\n",
              "    </tr>\n",
              "    <tr>\n",
              "      <th>50%</th>\n",
              "      <td>39.000000</td>\n",
              "      <td>30.400000</td>\n",
              "      <td>1.000000</td>\n",
              "      <td>9382.033000</td>\n",
              "    </tr>\n",
              "    <tr>\n",
              "      <th>75%</th>\n",
              "      <td>51.000000</td>\n",
              "      <td>34.693750</td>\n",
              "      <td>2.000000</td>\n",
              "      <td>16639.912515</td>\n",
              "    </tr>\n",
              "    <tr>\n",
              "      <th>max</th>\n",
              "      <td>64.000000</td>\n",
              "      <td>53.130000</td>\n",
              "      <td>5.000000</td>\n",
              "      <td>63770.428010</td>\n",
              "    </tr>\n",
              "  </tbody>\n",
              "</table>\n",
              "</div>"
            ],
            "text/plain": [
              "               age          bmi     children       charges\n",
              "count  1338.000000  1338.000000  1338.000000   1338.000000\n",
              "mean     39.207025    30.663397     1.094918  13270.422265\n",
              "std      14.049960     6.098187     1.205493  12110.011237\n",
              "min      18.000000    15.960000     0.000000   1121.873900\n",
              "25%      27.000000    26.296250     0.000000   4740.287150\n",
              "50%      39.000000    30.400000     1.000000   9382.033000\n",
              "75%      51.000000    34.693750     2.000000  16639.912515\n",
              "max      64.000000    53.130000     5.000000  63770.428010"
            ]
          },
          "metadata": {},
          "execution_count": 7
        }
      ]
    },
    {
      "cell_type": "markdown",
      "metadata": {
        "id": "LyZlsF9413r-"
      },
      "source": [
        "## Преобразуем строковые данные"
      ]
    },
    {
      "cell_type": "code",
      "metadata": {
        "id": "RJvGFn-u16MZ"
      },
      "source": [
        "# Заменяем пол и курение на числа\n",
        "df['sex']=df['sex'].map({'male':1, 'female':0})\n",
        "df['smoker']=df['smoker'].map({'yes':1,'no':0})"
      ],
      "execution_count": null,
      "outputs": []
    },
    {
      "cell_type": "code",
      "metadata": {
        "colab": {
          "base_uri": "https://localhost:8080/",
          "height": 204
        },
        "id": "-Oxii2Tr2HWE",
        "outputId": "b846bc5f-edff-4c11-c055-a13b67245dc8"
      },
      "source": [
        "df.head()"
      ],
      "execution_count": null,
      "outputs": [
        {
          "output_type": "execute_result",
          "data": {
            "text/html": [
              "<div>\n",
              "<style scoped>\n",
              "    .dataframe tbody tr th:only-of-type {\n",
              "        vertical-align: middle;\n",
              "    }\n",
              "\n",
              "    .dataframe tbody tr th {\n",
              "        vertical-align: top;\n",
              "    }\n",
              "\n",
              "    .dataframe thead th {\n",
              "        text-align: right;\n",
              "    }\n",
              "</style>\n",
              "<table border=\"1\" class=\"dataframe\">\n",
              "  <thead>\n",
              "    <tr style=\"text-align: right;\">\n",
              "      <th></th>\n",
              "      <th>age</th>\n",
              "      <th>sex</th>\n",
              "      <th>bmi</th>\n",
              "      <th>children</th>\n",
              "      <th>smoker</th>\n",
              "      <th>region</th>\n",
              "      <th>charges</th>\n",
              "    </tr>\n",
              "  </thead>\n",
              "  <tbody>\n",
              "    <tr>\n",
              "      <th>0</th>\n",
              "      <td>19</td>\n",
              "      <td>0</td>\n",
              "      <td>27.900</td>\n",
              "      <td>0</td>\n",
              "      <td>1</td>\n",
              "      <td>southwest</td>\n",
              "      <td>16884.92400</td>\n",
              "    </tr>\n",
              "    <tr>\n",
              "      <th>1</th>\n",
              "      <td>18</td>\n",
              "      <td>1</td>\n",
              "      <td>33.770</td>\n",
              "      <td>1</td>\n",
              "      <td>0</td>\n",
              "      <td>southeast</td>\n",
              "      <td>1725.55230</td>\n",
              "    </tr>\n",
              "    <tr>\n",
              "      <th>2</th>\n",
              "      <td>28</td>\n",
              "      <td>1</td>\n",
              "      <td>33.000</td>\n",
              "      <td>3</td>\n",
              "      <td>0</td>\n",
              "      <td>southeast</td>\n",
              "      <td>4449.46200</td>\n",
              "    </tr>\n",
              "    <tr>\n",
              "      <th>3</th>\n",
              "      <td>33</td>\n",
              "      <td>1</td>\n",
              "      <td>22.705</td>\n",
              "      <td>0</td>\n",
              "      <td>0</td>\n",
              "      <td>northwest</td>\n",
              "      <td>21984.47061</td>\n",
              "    </tr>\n",
              "    <tr>\n",
              "      <th>4</th>\n",
              "      <td>32</td>\n",
              "      <td>1</td>\n",
              "      <td>28.880</td>\n",
              "      <td>0</td>\n",
              "      <td>0</td>\n",
              "      <td>northwest</td>\n",
              "      <td>3866.85520</td>\n",
              "    </tr>\n",
              "  </tbody>\n",
              "</table>\n",
              "</div>"
            ],
            "text/plain": [
              "   age  sex     bmi  children  smoker     region      charges\n",
              "0   19    0  27.900         0       1  southwest  16884.92400\n",
              "1   18    1  33.770         1       0  southeast   1725.55230\n",
              "2   28    1  33.000         3       0  southeast   4449.46200\n",
              "3   33    1  22.705         0       0  northwest  21984.47061\n",
              "4   32    1  28.880         0       0  northwest   3866.85520"
            ]
          },
          "metadata": {},
          "execution_count": 9
        }
      ]
    },
    {
      "cell_type": "code",
      "metadata": {
        "colab": {
          "base_uri": "https://localhost:8080/",
          "height": 204
        },
        "id": "WOjwR3Gi2JoV",
        "outputId": "2c37f7c7-8490-4715-d470-084eda019ce7"
      },
      "source": [
        "# Заменяем регион на набор отдельных колонок (is_southwest, is_southeast и тп)\n",
        "df = pd.get_dummies(df, columns=['region'])\n",
        "df.head()"
      ],
      "execution_count": null,
      "outputs": [
        {
          "output_type": "execute_result",
          "data": {
            "text/html": [
              "<div>\n",
              "<style scoped>\n",
              "    .dataframe tbody tr th:only-of-type {\n",
              "        vertical-align: middle;\n",
              "    }\n",
              "\n",
              "    .dataframe tbody tr th {\n",
              "        vertical-align: top;\n",
              "    }\n",
              "\n",
              "    .dataframe thead th {\n",
              "        text-align: right;\n",
              "    }\n",
              "</style>\n",
              "<table border=\"1\" class=\"dataframe\">\n",
              "  <thead>\n",
              "    <tr style=\"text-align: right;\">\n",
              "      <th></th>\n",
              "      <th>age</th>\n",
              "      <th>sex</th>\n",
              "      <th>bmi</th>\n",
              "      <th>children</th>\n",
              "      <th>smoker</th>\n",
              "      <th>charges</th>\n",
              "      <th>region_northeast</th>\n",
              "      <th>region_northwest</th>\n",
              "      <th>region_southeast</th>\n",
              "      <th>region_southwest</th>\n",
              "    </tr>\n",
              "  </thead>\n",
              "  <tbody>\n",
              "    <tr>\n",
              "      <th>0</th>\n",
              "      <td>19</td>\n",
              "      <td>0</td>\n",
              "      <td>27.900</td>\n",
              "      <td>0</td>\n",
              "      <td>1</td>\n",
              "      <td>16884.92400</td>\n",
              "      <td>0</td>\n",
              "      <td>0</td>\n",
              "      <td>0</td>\n",
              "      <td>1</td>\n",
              "    </tr>\n",
              "    <tr>\n",
              "      <th>1</th>\n",
              "      <td>18</td>\n",
              "      <td>1</td>\n",
              "      <td>33.770</td>\n",
              "      <td>1</td>\n",
              "      <td>0</td>\n",
              "      <td>1725.55230</td>\n",
              "      <td>0</td>\n",
              "      <td>0</td>\n",
              "      <td>1</td>\n",
              "      <td>0</td>\n",
              "    </tr>\n",
              "    <tr>\n",
              "      <th>2</th>\n",
              "      <td>28</td>\n",
              "      <td>1</td>\n",
              "      <td>33.000</td>\n",
              "      <td>3</td>\n",
              "      <td>0</td>\n",
              "      <td>4449.46200</td>\n",
              "      <td>0</td>\n",
              "      <td>0</td>\n",
              "      <td>1</td>\n",
              "      <td>0</td>\n",
              "    </tr>\n",
              "    <tr>\n",
              "      <th>3</th>\n",
              "      <td>33</td>\n",
              "      <td>1</td>\n",
              "      <td>22.705</td>\n",
              "      <td>0</td>\n",
              "      <td>0</td>\n",
              "      <td>21984.47061</td>\n",
              "      <td>0</td>\n",
              "      <td>1</td>\n",
              "      <td>0</td>\n",
              "      <td>0</td>\n",
              "    </tr>\n",
              "    <tr>\n",
              "      <th>4</th>\n",
              "      <td>32</td>\n",
              "      <td>1</td>\n",
              "      <td>28.880</td>\n",
              "      <td>0</td>\n",
              "      <td>0</td>\n",
              "      <td>3866.85520</td>\n",
              "      <td>0</td>\n",
              "      <td>1</td>\n",
              "      <td>0</td>\n",
              "      <td>0</td>\n",
              "    </tr>\n",
              "  </tbody>\n",
              "</table>\n",
              "</div>"
            ],
            "text/plain": [
              "   age  sex     bmi  ...  region_northwest  region_southeast  region_southwest\n",
              "0   19    0  27.900  ...                 0                 0                 1\n",
              "1   18    1  33.770  ...                 0                 1                 0\n",
              "2   28    1  33.000  ...                 0                 1                 0\n",
              "3   33    1  22.705  ...                 1                 0                 0\n",
              "4   32    1  28.880  ...                 1                 0                 0\n",
              "\n",
              "[5 rows x 10 columns]"
            ]
          },
          "metadata": {},
          "execution_count": 10
        }
      ]
    },
    {
      "cell_type": "markdown",
      "metadata": {
        "id": "kIeBuYJTWv6Q"
      },
      "source": [
        "## Формируем признаки и целевую переменную"
      ]
    },
    {
      "cell_type": "code",
      "metadata": {
        "id": "f5DZDaJEWygm"
      },
      "source": [
        "## Сформируйте признаки и целевую переменную"
      ],
      "execution_count": null,
      "outputs": []
    },
    {
      "cell_type": "code",
      "metadata": {
        "id": "dFHL5omIWzur"
      },
      "source": [
        "X = df[['age',\t'sex',\t'bmi',\t'children',\t'smoker',\t'region_northeast', 'region_northwest',\t'region_southeast',\t'region_southwest']]\n",
        "y = df['charges']"
      ],
      "execution_count": null,
      "outputs": []
    },
    {
      "cell_type": "code",
      "metadata": {
        "colab": {
          "base_uri": "https://localhost:8080/",
          "height": 419
        },
        "id": "zgIGLwn45K9t",
        "outputId": "9469328e-438c-4e88-c01c-87db7e52a048"
      },
      "source": [
        "X"
      ],
      "execution_count": null,
      "outputs": [
        {
          "output_type": "execute_result",
          "data": {
            "text/html": [
              "<div>\n",
              "<style scoped>\n",
              "    .dataframe tbody tr th:only-of-type {\n",
              "        vertical-align: middle;\n",
              "    }\n",
              "\n",
              "    .dataframe tbody tr th {\n",
              "        vertical-align: top;\n",
              "    }\n",
              "\n",
              "    .dataframe thead th {\n",
              "        text-align: right;\n",
              "    }\n",
              "</style>\n",
              "<table border=\"1\" class=\"dataframe\">\n",
              "  <thead>\n",
              "    <tr style=\"text-align: right;\">\n",
              "      <th></th>\n",
              "      <th>age</th>\n",
              "      <th>sex</th>\n",
              "      <th>bmi</th>\n",
              "      <th>children</th>\n",
              "      <th>smoker</th>\n",
              "      <th>region_northeast</th>\n",
              "      <th>region_northwest</th>\n",
              "      <th>region_southeast</th>\n",
              "      <th>region_southwest</th>\n",
              "    </tr>\n",
              "  </thead>\n",
              "  <tbody>\n",
              "    <tr>\n",
              "      <th>0</th>\n",
              "      <td>19</td>\n",
              "      <td>0</td>\n",
              "      <td>27.900</td>\n",
              "      <td>0</td>\n",
              "      <td>1</td>\n",
              "      <td>0</td>\n",
              "      <td>0</td>\n",
              "      <td>0</td>\n",
              "      <td>1</td>\n",
              "    </tr>\n",
              "    <tr>\n",
              "      <th>1</th>\n",
              "      <td>18</td>\n",
              "      <td>1</td>\n",
              "      <td>33.770</td>\n",
              "      <td>1</td>\n",
              "      <td>0</td>\n",
              "      <td>0</td>\n",
              "      <td>0</td>\n",
              "      <td>1</td>\n",
              "      <td>0</td>\n",
              "    </tr>\n",
              "    <tr>\n",
              "      <th>2</th>\n",
              "      <td>28</td>\n",
              "      <td>1</td>\n",
              "      <td>33.000</td>\n",
              "      <td>3</td>\n",
              "      <td>0</td>\n",
              "      <td>0</td>\n",
              "      <td>0</td>\n",
              "      <td>1</td>\n",
              "      <td>0</td>\n",
              "    </tr>\n",
              "    <tr>\n",
              "      <th>3</th>\n",
              "      <td>33</td>\n",
              "      <td>1</td>\n",
              "      <td>22.705</td>\n",
              "      <td>0</td>\n",
              "      <td>0</td>\n",
              "      <td>0</td>\n",
              "      <td>1</td>\n",
              "      <td>0</td>\n",
              "      <td>0</td>\n",
              "    </tr>\n",
              "    <tr>\n",
              "      <th>4</th>\n",
              "      <td>32</td>\n",
              "      <td>1</td>\n",
              "      <td>28.880</td>\n",
              "      <td>0</td>\n",
              "      <td>0</td>\n",
              "      <td>0</td>\n",
              "      <td>1</td>\n",
              "      <td>0</td>\n",
              "      <td>0</td>\n",
              "    </tr>\n",
              "    <tr>\n",
              "      <th>...</th>\n",
              "      <td>...</td>\n",
              "      <td>...</td>\n",
              "      <td>...</td>\n",
              "      <td>...</td>\n",
              "      <td>...</td>\n",
              "      <td>...</td>\n",
              "      <td>...</td>\n",
              "      <td>...</td>\n",
              "      <td>...</td>\n",
              "    </tr>\n",
              "    <tr>\n",
              "      <th>1333</th>\n",
              "      <td>50</td>\n",
              "      <td>1</td>\n",
              "      <td>30.970</td>\n",
              "      <td>3</td>\n",
              "      <td>0</td>\n",
              "      <td>0</td>\n",
              "      <td>1</td>\n",
              "      <td>0</td>\n",
              "      <td>0</td>\n",
              "    </tr>\n",
              "    <tr>\n",
              "      <th>1334</th>\n",
              "      <td>18</td>\n",
              "      <td>0</td>\n",
              "      <td>31.920</td>\n",
              "      <td>0</td>\n",
              "      <td>0</td>\n",
              "      <td>1</td>\n",
              "      <td>0</td>\n",
              "      <td>0</td>\n",
              "      <td>0</td>\n",
              "    </tr>\n",
              "    <tr>\n",
              "      <th>1335</th>\n",
              "      <td>18</td>\n",
              "      <td>0</td>\n",
              "      <td>36.850</td>\n",
              "      <td>0</td>\n",
              "      <td>0</td>\n",
              "      <td>0</td>\n",
              "      <td>0</td>\n",
              "      <td>1</td>\n",
              "      <td>0</td>\n",
              "    </tr>\n",
              "    <tr>\n",
              "      <th>1336</th>\n",
              "      <td>21</td>\n",
              "      <td>0</td>\n",
              "      <td>25.800</td>\n",
              "      <td>0</td>\n",
              "      <td>0</td>\n",
              "      <td>0</td>\n",
              "      <td>0</td>\n",
              "      <td>0</td>\n",
              "      <td>1</td>\n",
              "    </tr>\n",
              "    <tr>\n",
              "      <th>1337</th>\n",
              "      <td>61</td>\n",
              "      <td>0</td>\n",
              "      <td>29.070</td>\n",
              "      <td>0</td>\n",
              "      <td>1</td>\n",
              "      <td>0</td>\n",
              "      <td>1</td>\n",
              "      <td>0</td>\n",
              "      <td>0</td>\n",
              "    </tr>\n",
              "  </tbody>\n",
              "</table>\n",
              "<p>1338 rows × 9 columns</p>\n",
              "</div>"
            ],
            "text/plain": [
              "      age  sex     bmi  ...  region_northwest  region_southeast  region_southwest\n",
              "0      19    0  27.900  ...                 0                 0                 1\n",
              "1      18    1  33.770  ...                 0                 1                 0\n",
              "2      28    1  33.000  ...                 0                 1                 0\n",
              "3      33    1  22.705  ...                 1                 0                 0\n",
              "4      32    1  28.880  ...                 1                 0                 0\n",
              "...   ...  ...     ...  ...               ...               ...               ...\n",
              "1333   50    1  30.970  ...                 1                 0                 0\n",
              "1334   18    0  31.920  ...                 0                 0                 0\n",
              "1335   18    0  36.850  ...                 0                 1                 0\n",
              "1336   21    0  25.800  ...                 0                 0                 1\n",
              "1337   61    0  29.070  ...                 1                 0                 0\n",
              "\n",
              "[1338 rows x 9 columns]"
            ]
          },
          "metadata": {},
          "execution_count": 28
        }
      ]
    },
    {
      "cell_type": "code",
      "metadata": {
        "colab": {
          "base_uri": "https://localhost:8080/"
        },
        "id": "Ed5mU28R5Ndd",
        "outputId": "cfe4b928-c3d9-498a-ff57-9cec820eda35"
      },
      "source": [
        "y"
      ],
      "execution_count": null,
      "outputs": [
        {
          "output_type": "execute_result",
          "data": {
            "text/plain": [
              "0       16884.92400\n",
              "1        1725.55230\n",
              "2        4449.46200\n",
              "3       21984.47061\n",
              "4        3866.85520\n",
              "           ...     \n",
              "1333    10600.54830\n",
              "1334     2205.98080\n",
              "1335     1629.83350\n",
              "1336     2007.94500\n",
              "1337    29141.36030\n",
              "Name: charges, Length: 1338, dtype: float64"
            ]
          },
          "metadata": {},
          "execution_count": 29
        }
      ]
    },
    {
      "cell_type": "markdown",
      "metadata": {
        "id": "IdWsgcmeWgb5"
      },
      "source": [
        "## Разделяем данные на выборку для обучения/проверки"
      ]
    },
    {
      "cell_type": "code",
      "metadata": {
        "id": "BSLwWV8ZWexo"
      },
      "source": [
        "X_train, X_test, y_train, y_test = train_test_split(X, y, test_size=0.2)"
      ],
      "execution_count": null,
      "outputs": []
    },
    {
      "cell_type": "markdown",
      "metadata": {
        "id": "DqSI5M-UW9-K"
      },
      "source": [
        "## Создаем и обучаем модель линейной регресии"
      ]
    },
    {
      "cell_type": "code",
      "metadata": {
        "colab": {
          "base_uri": "https://localhost:8080/"
        },
        "id": "rcFwyjbOW8ep",
        "outputId": "1d9cea7f-513c-4f39-d110-1eb12aa29987"
      },
      "source": [
        "# Создайте и обучите модель\n",
        "\n",
        "lr = LinearRegression() \n",
        "lr.fit(X_train, y_train)"
      ],
      "execution_count": null,
      "outputs": [
        {
          "output_type": "execute_result",
          "data": {
            "text/plain": [
              "LinearRegression(copy_X=True, fit_intercept=True, n_jobs=None, normalize=False)"
            ]
          },
          "metadata": {},
          "execution_count": 31
        }
      ]
    },
    {
      "cell_type": "markdown",
      "metadata": {
        "id": "BodvxJhTXGCE"
      },
      "source": [
        "## Получаем предсказание и оцениваем качество"
      ]
    },
    {
      "cell_type": "code",
      "metadata": {
        "id": "j4nP_m7rXDZG",
        "colab": {
          "base_uri": "https://localhost:8080/"
        },
        "outputId": "a442099f-950b-4d96-9b00-de305b27f83b"
      },
      "source": [
        "# Получите предсказание\n",
        "\n",
        "lr.coef_"
      ],
      "execution_count": null,
      "outputs": [
        {
          "output_type": "execute_result",
          "data": {
            "text/plain": [
              "array([  258.14709548,   -36.44901107,   356.95652853,   370.4462921 ,\n",
              "       24141.79291538,   565.7955346 ,   161.31018894,  -564.48753426,\n",
              "        -162.61818928])"
            ]
          },
          "metadata": {},
          "execution_count": 32
        }
      ]
    },
    {
      "cell_type": "code",
      "metadata": {
        "id": "SJkGSm-jXOrj"
      },
      "source": [
        "# Оцените качество, при помощи метода mean_squared_error для тестовой выборки"
      ],
      "execution_count": null,
      "outputs": []
    },
    {
      "cell_type": "code",
      "metadata": {
        "id": "rLxR0uVJ0D4w",
        "colab": {
          "base_uri": "https://localhost:8080/"
        },
        "outputId": "60e22745-1485-4139-c8b7-6c97d0cc06d5"
      },
      "source": [
        "lr.predict(X_test)"
      ],
      "execution_count": null,
      "outputs": [
        {
          "output_type": "execute_result",
          "data": {
            "text/plain": [
              "array([ 4.67871804e+03,  3.07990527e+04,  9.42722712e+03,  9.82305051e+03,\n",
              "        1.57402032e+04,  7.10290758e+03,  2.60192484e+03,  1.51513020e+04,\n",
              "        1.21854318e+04,  1.08162544e+04,  1.16616372e+04,  1.39592355e+04,\n",
              "        1.37359756e+04,  1.35635450e+03,  1.16538607e+04,  1.12937978e+04,\n",
              "        1.00853970e+04,  3.45102954e+04,  2.88450214e+04,  8.90041975e+03,\n",
              "        3.35835290e+04, -2.01559192e+03,  1.20317900e+04,  3.82755964e+03,\n",
              "        8.30841133e+03,  2.74539065e+04,  3.26642506e+03,  6.44134455e+03,\n",
              "        8.46796110e+03,  4.08632782e+03,  1.24786606e+04,  8.57222064e+03,\n",
              "        2.76938208e+04,  1.27976483e+04,  3.31370648e+04,  4.24502537e+03,\n",
              "       -7.52039896e+02,  1.07328214e+04,  1.14898297e+04,  1.39632151e+04,\n",
              "        1.07271262e+04,  1.03692425e+04,  4.65275030e+03,  1.27114692e+04,\n",
              "        2.72343309e+04,  9.71571613e+03,  1.24439411e+04,  7.15186894e+03,\n",
              "        9.98706924e+03,  4.63486134e+03,  2.99677710e+02,  3.37445166e+03,\n",
              "        1.05017188e+04, -1.15964961e+03,  1.32430257e+04,  7.83540955e+03,\n",
              "        3.18805277e+04,  3.89766956e+04,  9.47121365e+03,  5.28099379e+03,\n",
              "        3.84735646e+03,  4.11505010e+03,  4.41003928e+02,  1.75713357e+04,\n",
              "        1.15995908e+04,  7.05884586e+03,  4.31458509e+03,  6.73874792e+03,\n",
              "        1.52701908e+04,  2.64365804e+04,  3.06399066e+04,  3.58209692e+04,\n",
              "        3.13444778e+04,  2.62017425e+04,  3.22395370e+04,  3.40547352e+04,\n",
              "        3.00668485e+04,  9.89458126e+03,  5.85452715e+03,  3.13711837e+04,\n",
              "        1.34867690e+04,  2.84910668e+04,  1.50440211e+04,  2.51148565e+03,\n",
              "        1.71706527e+04,  4.42321852e+03,  5.68953913e+03,  8.94301464e+03,\n",
              "        1.27771789e+04,  2.83736144e+03,  3.50265539e+04,  5.28346010e+03,\n",
              "        6.48829212e+03,  1.52709053e+04,  8.29015069e+03,  1.15251270e+03,\n",
              "        1.38988880e+03,  6.87808513e+03,  1.77984722e+04,  3.55106975e+04,\n",
              "        4.79072936e+03,  2.43574156e+04,  8.35471381e+03,  8.26829704e+03,\n",
              "        8.93243995e+03,  3.28093932e+04,  3.90594797e+03,  9.42434940e+03,\n",
              "        7.49241820e+03,  1.81788471e+04,  3.16838814e+03,  1.15656799e+04,\n",
              "        7.01816235e+03,  3.64591163e+04,  3.39709296e+03,  2.88817362e+04,\n",
              "        1.00295399e+04,  1.25278733e+04,  1.22354180e+04,  3.32606148e+04,\n",
              "        2.87109961e+04,  1.50045474e+04,  1.52356017e+04,  8.67693416e+03,\n",
              "        3.14477473e+03,  5.26241791e+03,  1.22651244e+04,  5.98250436e+03,\n",
              "        7.98074014e+03,  1.03945072e+04,  6.46835702e+03,  6.77188523e+03,\n",
              "        3.68509806e+03,  1.51352060e+04,  2.51870291e+04,  6.70229891e+03,\n",
              "        4.81394546e+03,  3.21345582e+04,  3.72029549e+04,  5.21614508e+03,\n",
              "        3.12269931e+04,  1.30594833e+04,  3.61470304e+03,  1.67477213e+04,\n",
              "        8.46396537e+03,  5.18100544e+03,  1.33281039e+04,  5.18457440e+03,\n",
              "        1.17319500e+03,  1.43191152e+04,  2.75299816e+04,  1.46090507e+04,\n",
              "        3.76635048e+03,  1.07396105e+03,  7.02672439e+03,  4.54648374e+03,\n",
              "        3.77538137e+03,  1.06618877e+04,  7.09951528e+03,  1.65458628e+04,\n",
              "        1.39253641e+04,  9.95269491e+03,  1.82875158e+04,  1.14151828e+04,\n",
              "        1.02561676e+04,  1.14710881e+04,  1.16085313e+04,  5.63470287e+03,\n",
              "        6.55902429e+03,  1.14164062e+04,  3.73152075e+04,  1.46811173e+04,\n",
              "        3.16597173e+04,  1.14228581e+04,  7.62507267e+03,  5.27259703e+03,\n",
              "        1.65103452e+04,  1.27621130e+04, -3.16349485e+02,  6.66779877e+03,\n",
              "        2.39137357e+03,  1.21094290e+04,  1.02767115e+04,  1.51352618e+04,\n",
              "        3.73779178e+04,  7.27595279e+03,  6.22800194e+03,  2.73285367e+04,\n",
              "        5.05592854e+03,  5.56582225e+03,  7.71668957e+03,  1.02011887e+04,\n",
              "        1.40410452e+04,  4.60072670e+03,  3.35874206e+04,  1.52262177e+04,\n",
              "        1.15704546e+04,  8.57466574e+03,  5.76006785e+03,  1.82708138e+04,\n",
              "        1.69871846e+04,  1.30340166e+04,  1.10966175e+04,  8.67163427e+03,\n",
              "        1.02415890e+04,  6.94143958e+03,  4.07155781e+04,  5.01019528e+03,\n",
              "        6.64346526e+03,  7.79638726e+03,  2.77331753e+03,  1.10684955e+04,\n",
              "        3.17690171e+03,  1.11832749e+04, -1.60830834e+03, -1.01611364e+03,\n",
              "        1.25607702e+04,  1.27219531e+04,  2.82662064e+04,  6.83070600e+03,\n",
              "        3.12375597e+04,  5.87625378e+03,  3.35672589e+04,  1.43013147e+04,\n",
              "        3.39551250e+04,  6.64947032e+03,  9.37967106e+03,  1.07845069e+04,\n",
              "        5.76845460e+03,  1.19586574e+04,  1.31443620e+04,  3.37689163e+04,\n",
              "        6.54561530e+03,  4.59559612e+03,  8.03486417e+03,  1.11421830e+04,\n",
              "        3.77502228e+03,  5.56676757e+03,  1.21145242e+04,  1.46324016e+04,\n",
              "        8.59518063e+03,  3.73215802e+04,  6.78665715e+03,  1.60979060e+04,\n",
              "        1.10514524e+04,  1.17622979e+04,  1.49941640e+04,  8.13129063e+03,\n",
              "        3.14210841e+03,  3.89926279e+04,  1.47201747e+04,  3.59103173e+03,\n",
              "        1.02880843e+04,  3.87669541e+04,  3.01902021e+04,  7.14490046e+03,\n",
              "        2.16115260e+03,  9.14560666e+03,  1.05787681e+04,  1.21953805e+04,\n",
              "        2.77717084e+03,  8.64007214e+03,  1.21882742e+04,  1.10148958e+04,\n",
              "        3.38681687e+04, -1.11516529e+01,  1.27102053e+04,  1.49489226e+04])"
            ]
          },
          "metadata": {},
          "execution_count": 33
        }
      ]
    },
    {
      "cell_type": "code",
      "metadata": {
        "colab": {
          "base_uri": "https://localhost:8080/"
        },
        "id": "2-NXDNAA52Fi",
        "outputId": "2fff9c2b-dd9d-4ab1-ed99-033b5fd9ba9f"
      },
      "source": [
        "mean_squared_error(y_test, lr.predict(X_test)) #на тестовой выборке"
      ],
      "execution_count": null,
      "outputs": [
        {
          "output_type": "execute_result",
          "data": {
            "text/plain": [
              "42023926.00916992"
            ]
          },
          "metadata": {},
          "execution_count": 34
        }
      ]
    },
    {
      "cell_type": "code",
      "metadata": {
        "colab": {
          "base_uri": "https://localhost:8080/"
        },
        "id": "bd6Ml_k56HyR",
        "outputId": "39b080f0-9972-49ae-e0ae-a7af0b13a91d"
      },
      "source": [
        "mean_squared_error(y_train, lr.predict(X_train)) #на обучающей выборке"
      ],
      "execution_count": null,
      "outputs": [
        {
          "output_type": "execute_result",
          "data": {
            "text/plain": [
              "35189933.37645373"
            ]
          },
          "metadata": {},
          "execution_count": 35
        }
      ]
    },
    {
      "cell_type": "markdown",
      "metadata": {
        "id": "RwVK1ery4nv2"
      },
      "source": [
        "## Делаем предсказание для одного человека"
      ]
    },
    {
      "cell_type": "code",
      "metadata": {
        "id": "c8c1dxeD4oKP"
      },
      "source": [
        "# Заполняем данные по конкретному человеку\n",
        "data = [{\n",
        "    \"age\": 20,\n",
        "    \"sex\": 1,\n",
        "    \"bmi\": 30,\n",
        "    \"children\": 2,\n",
        "    \"smoker\": 1,\n",
        "    \"region_northeast\": 0,\n",
        "    \"region_northwest\": 0,\n",
        "    \"region_southeast\": 1,\n",
        "    \"region_southwest\": 0\n",
        "}]"
      ],
      "execution_count": null,
      "outputs": []
    },
    {
      "cell_type": "code",
      "metadata": {
        "id": "d7KVpaTb4qZJ",
        "colab": {
          "base_uri": "https://localhost:8080/",
          "height": 80
        },
        "outputId": "d043aea5-4309-4c35-86dd-3bb183c1702b"
      },
      "source": [
        "df_person = pd.DataFrame(data)\n",
        "df_person.head()"
      ],
      "execution_count": null,
      "outputs": [
        {
          "output_type": "execute_result",
          "data": {
            "text/html": [
              "<div>\n",
              "<style scoped>\n",
              "    .dataframe tbody tr th:only-of-type {\n",
              "        vertical-align: middle;\n",
              "    }\n",
              "\n",
              "    .dataframe tbody tr th {\n",
              "        vertical-align: top;\n",
              "    }\n",
              "\n",
              "    .dataframe thead th {\n",
              "        text-align: right;\n",
              "    }\n",
              "</style>\n",
              "<table border=\"1\" class=\"dataframe\">\n",
              "  <thead>\n",
              "    <tr style=\"text-align: right;\">\n",
              "      <th></th>\n",
              "      <th>age</th>\n",
              "      <th>sex</th>\n",
              "      <th>bmi</th>\n",
              "      <th>children</th>\n",
              "      <th>smoker</th>\n",
              "      <th>region_northeast</th>\n",
              "      <th>region_northwest</th>\n",
              "      <th>region_southeast</th>\n",
              "      <th>region_southwest</th>\n",
              "    </tr>\n",
              "  </thead>\n",
              "  <tbody>\n",
              "    <tr>\n",
              "      <th>0</th>\n",
              "      <td>20</td>\n",
              "      <td>1</td>\n",
              "      <td>30</td>\n",
              "      <td>2</td>\n",
              "      <td>1</td>\n",
              "      <td>0</td>\n",
              "      <td>0</td>\n",
              "      <td>1</td>\n",
              "      <td>0</td>\n",
              "    </tr>\n",
              "  </tbody>\n",
              "</table>\n",
              "</div>"
            ],
            "text/plain": [
              "   age  sex  bmi  ...  region_northwest  region_southeast  region_southwest\n",
              "0   20    1   30  ...                 0                 1                 0\n",
              "\n",
              "[1 rows x 9 columns]"
            ]
          },
          "metadata": {},
          "execution_count": 37
        }
      ]
    },
    {
      "cell_type": "code",
      "metadata": {
        "id": "mbH0lpNa4uMQ",
        "colab": {
          "base_uri": "https://localhost:8080/"
        },
        "outputId": "abc42ec4-fb9b-404b-8f9c-efb701f78a8e"
      },
      "source": [
        "lr.predict(df_person)"
      ],
      "execution_count": null,
      "outputs": [
        {
          "output_type": "execute_result",
          "data": {
            "text/plain": [
              "array([27041.79196478])"
            ]
          },
          "metadata": {},
          "execution_count": 38
        }
      ]
    }
  ]
}